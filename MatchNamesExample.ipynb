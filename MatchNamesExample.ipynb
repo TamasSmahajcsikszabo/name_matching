{
 "cells": [
  {
   "cell_type": "code",
   "execution_count": 9,
   "id": "d4c1af79-663f-4f52-901a-96def156580a",
   "metadata": {},
   "outputs": [
    {
     "name": "stdout",
     "output_type": "stream",
     "text": [
      "Defaulting to user installation because normal site-packages is not writeable\n",
      "\u001b[31mERROR: Could not open requirements file: [Errno 2] No such file or directory: 'requirements.txt'\u001b[0m\u001b[31m\n",
      "\u001b[0mNote: you may need to restart the kernel to use updated packages.\n"
     ]
    },
    {
     "data": {
      "text/plain": [
       "'\\n    The solution\\'s main approach has been to build on a quick lookup functionality using an internal library.\\n    This library can be constructed separately and can be extended with further functionality.\\n    Currently it contains alhabethic sections, such as \"a\":[...list of records], \"b\": [...list of records] to speed up lookups.\\n\\n    Each record contains the original, the lemmatized text of a looked-up term and various synonyms of its tokens.\\n    The synonym matching is not part of the current solution, but can be added later.\\n'"
      ]
     },
     "execution_count": 9,
     "metadata": {},
     "output_type": "execute_result"
    }
   ],
   "source": [
    "## Welcome to the Name Matchin utility example\n",
    "\n",
    "# install requirements\n",
    "%pip install -r requirements.txt\n",
    "import os\n",
    "import pandas as pd\n",
    "os.chdir('./src')\n",
    "\n",
    "#import two functions we need for the example\n",
    "# match_names is the main function to match names against an entries data \n",
    "from match_names import match_names, find_best_match\n",
    "\n",
    "# load_library is a utility for handling the API's internal \"library\"\n",
    "from build_library import load_library\n",
    "\n",
    "'''\n",
    "    The solution's main approach has been to build on a quick lookup functionality using an internal library.\n",
    "    This library can be constructed separately and can be extended with further functionality.\n",
    "    Currently it contains alhabethic sections, such as \"a\":[...list of records], \"b\": [...list of records] to speed up lookups.\n",
    "\n",
    "    Each record contains the original, the lemmatized text of a looked-up term and various synonyms of its tokens.\n",
    "    The synonym matching is not part of the current solution, but can be added later.\n",
    "'''"
   ]
  },
  {
   "cell_type": "code",
   "execution_count": 2,
   "id": "6e49ae60-4351-489b-9335-42818ced310a",
   "metadata": {},
   "outputs": [],
   "source": [
    "# an initial library is battery-included, let's load it\n",
    "entry = load_library(os.path.join('..', 'data', 'libary.pickle'))"
   ]
  },
  {
   "cell_type": "code",
   "execution_count": 3,
   "id": "8111c404-7376-4b1c-8b49-8c8539340b3a",
   "metadata": {},
   "outputs": [
    {
     "data": {
      "text/plain": [
       "[('Jane', 'jane doe', 0.6666666666666667),\n",
       " ('Jane', 'jones', 0.6666666666666667),\n",
       " ('Trade', 'transdev', 0.7692307692307692),\n",
       " ('Trade', 'traderio', 0.7692307692307692),\n",
       " ('Johnson', 'johnson', 1.0),\n",
       " ('Lee', 'le vee q', 0.5454545454545454),\n",
       " ('Lee', 'leeson l', 0.5454545454545454),\n",
       " ('Lee', 'levie al', 0.5454545454545454),\n",
       " ('Thomas', 'thomason m', 0.75),\n",
       " ('Thomas', 'thomas ltd', 0.75)]"
      ]
     },
     "execution_count": 3,
     "metadata": {},
     "output_type": "execute_result"
    }
   ],
   "source": [
    "# let's try out our solution on some words\n",
    "match_names(entry, [\"Jane\", \"Trade\", \"Johnson\", \"Lee\", \"Thomas\"])"
   ]
  },
  {
   "cell_type": "code",
   "execution_count": 4,
   "id": "b8deec93-11ed-4112-84d6-33d51aee0ae7",
   "metadata": {},
   "outputs": [
    {
     "data": {
      "text/plain": [
       "[('LLC', 'Unknown', 0.0)]"
      ]
     },
     "execution_count": 4,
     "metadata": {},
     "output_type": "execute_result"
    }
   ],
   "source": [
    "match_names(entry, \"LLC\")"
   ]
  },
  {
   "cell_type": "code",
   "execution_count": 32,
   "id": "62ff43b5-d0bc-44d6-96e1-90636d5f2556",
   "metadata": {},
   "outputs": [
    {
     "name": "stdout",
     "output_type": "stream",
     "text": [
      "Test run 1\n",
      "For 250 randomly selected cases, the TPR (true positive rate) is 0.9659090909090909\n",
      "Test run 2\n",
      "For 250 randomly selected cases, the TPR (true positive rate) is 0.9247311827956989\n",
      "Test run 3\n",
      "For 250 randomly selected cases, the TPR (true positive rate) is 0.9195402298850575\n",
      "Test run 4\n",
      "For 250 randomly selected cases, the TPR (true positive rate) is 0.9305555555555556\n",
      "Test run 5\n",
      "For 250 randomly selected cases, the TPR (true positive rate) is 0.9733333333333334\n",
      "Test run 6\n",
      "For 250 randomly selected cases, the TPR (true positive rate) is 0.9078947368421053\n",
      "Test run 7\n",
      "For 250 randomly selected cases, the TPR (true positive rate) is 0.9313725490196079\n",
      "Test run 8\n",
      "For 250 randomly selected cases, the TPR (true positive rate) is 0.9195402298850575\n",
      "Test run 9\n",
      "For 250 randomly selected cases, the TPR (true positive rate) is 0.9431818181818182\n",
      "Test run 10\n",
      "For 250 randomly selected cases, the TPR (true positive rate) is 0.9662921348314607\n"
     ]
    }
   ],
   "source": [
    "import random\n",
    "\n",
    "cac = 0.75 # conficence acceptance criteria\n",
    "\n",
    "# load data\n",
    "datadir = os.path.join('..', 'data', 'name_matching_test_data.csv')\n",
    "data = pd.read_csv(datadir)\n",
    "terms = data['term'].tolist()\n",
    "entries = data['entry'].tolist()\n",
    "res = data['match'].tolist()\n",
    "\n",
    "def runRandomTest(N=250):\n",
    "    truePos=0\n",
    "    falseNeg=0\n",
    "    trues=0\n",
    "    indices = [random.randint(0,len(terms)) for i in range(N)]\n",
    "    for i in indices:\n",
    "        term = terms[i]\n",
    "        found = match_names(entry, term)\n",
    "        best_match = find_best_match(found)\n",
    "        if best_match[0][2] >= cac and res[i]==True:\n",
    "            truePos += 1\n",
    "        elif best_match[0][2] < cac and res[i]==True:\n",
    "            falseNeg +=1\n",
    "        if res[i] == True:\n",
    "            trues += 1\n",
    "\n",
    "    print(f'For {N} randomly selected cases, the TPR (true positive rate) is {truePos/(truePos+falseNeg)}')\n",
    "\n",
    "for i in range(10):\n",
    "    print(f'Test run {i+1}')\n",
    "    runRandomTest()"
   ]
  }
 ],
 "metadata": {
  "kernelspec": {
   "display_name": "Python 3 (ipykernel)",
   "language": "python",
   "name": "python3"
  },
  "language_info": {
   "codemirror_mode": {
    "name": "ipython",
    "version": 3
   },
   "file_extension": ".py",
   "mimetype": "text/x-python",
   "name": "python",
   "nbconvert_exporter": "python",
   "pygments_lexer": "ipython3",
   "version": "3.12.4"
  }
 },
 "nbformat": 4,
 "nbformat_minor": 5
}
