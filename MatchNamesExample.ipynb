{
 "cells": [
  {
   "cell_type": "code",
   "execution_count": 2,
   "id": "d4c1af79-663f-4f52-901a-96def156580a",
   "metadata": {},
   "outputs": [
    {
     "name": "stdout",
     "output_type": "stream",
     "text": [
      "Requirement already satisfied: absl-py==2.1.0 in /var/home/tamas/.local/lib/python3.12/site-packages (from -r requirements.txt (line 1)) (2.1.0)\n",
      "Requirement already satisfied: anyio==4.4.0 in /var/home/tamas/anaconda3/lib/python3.12/site-packages (from -r requirements.txt (line 2)) (4.4.0)\n",
      "Requirement already satisfied: argon2-cffi==23.1.0 in /var/home/tamas/anaconda3/lib/python3.12/site-packages (from -r requirements.txt (line 3)) (23.1.0)\n",
      "Requirement already satisfied: argon2-cffi-bindings==21.2.0 in /var/home/tamas/anaconda3/lib/python3.12/site-packages (from -r requirements.txt (line 4)) (21.2.0)\n",
      "Requirement already satisfied: arrow==1.3.0 in /var/home/tamas/anaconda3/lib/python3.12/site-packages (from -r requirements.txt (line 5)) (1.3.0)\n",
      "Requirement already satisfied: asttokens==2.4.1 in /var/home/tamas/.local/lib/python3.12/site-packages (from -r requirements.txt (line 6)) (2.4.1)\n",
      "Requirement already satisfied: astunparse==1.6.3 in /var/home/tamas/.local/lib/python3.12/site-packages (from -r requirements.txt (line 7)) (1.6.3)\n",
      "Requirement already satisfied: async-lru==2.0.4 in /var/home/tamas/anaconda3/lib/python3.12/site-packages (from -r requirements.txt (line 8)) (2.0.4)\n",
      "Requirement already satisfied: attrs==24.2.0 in /var/home/tamas/anaconda3/lib/python3.12/site-packages (from -r requirements.txt (line 9)) (24.2.0)\n",
      "Requirement already satisfied: babel==2.16.0 in /var/home/tamas/anaconda3/lib/python3.12/site-packages (from -r requirements.txt (line 10)) (2.16.0)\n",
      "Requirement already satisfied: beautifulsoup4==4.12.3 in /var/home/tamas/anaconda3/lib/python3.12/site-packages (from -r requirements.txt (line 11)) (4.12.3)\n",
      "Requirement already satisfied: bleach==6.1.0 in /var/home/tamas/anaconda3/lib/python3.12/site-packages (from -r requirements.txt (line 12)) (6.1.0)\n",
      "Requirement already satisfied: certifi==2024.8.30 in /var/home/tamas/anaconda3/lib/python3.12/site-packages (from -r requirements.txt (line 13)) (2024.8.30)\n",
      "Requirement already satisfied: cffi==1.17.1 in /var/home/tamas/anaconda3/lib/python3.12/site-packages (from -r requirements.txt (line 14)) (1.17.1)\n",
      "Requirement already satisfied: chardet==3.0.4 in /var/home/tamas/anaconda3/lib/python3.12/site-packages (from -r requirements.txt (line 15)) (3.0.4)\n",
      "Requirement already satisfied: charset-normalizer==3.3.2 in /var/home/tamas/.local/lib/python3.12/site-packages (from -r requirements.txt (line 16)) (3.3.2)\n",
      "Requirement already satisfied: click==8.1.7 in /var/home/tamas/anaconda3/lib/python3.12/site-packages (from -r requirements.txt (line 17)) (8.1.7)\n",
      "Requirement already satisfied: comm==0.2.2 in /var/home/tamas/anaconda3/lib/python3.12/site-packages (from -r requirements.txt (line 18)) (0.2.2)\n",
      "Requirement already satisfied: debugpy==1.8.5 in /var/home/tamas/anaconda3/lib/python3.12/site-packages (from -r requirements.txt (line 19)) (1.8.5)\n",
      "Requirement already satisfied: decorator==5.1.1 in /var/home/tamas/.local/lib/python3.12/site-packages (from -r requirements.txt (line 20)) (5.1.1)\n",
      "Requirement already satisfied: defusedxml==0.7.1 in /var/home/tamas/anaconda3/lib/python3.12/site-packages (from -r requirements.txt (line 21)) (0.7.1)\n",
      "Requirement already satisfied: executing==2.1.0 in /var/home/tamas/anaconda3/lib/python3.12/site-packages (from -r requirements.txt (line 22)) (2.1.0)\n",
      "Requirement already satisfied: fastjsonschema==2.20.0 in /var/home/tamas/anaconda3/lib/python3.12/site-packages (from -r requirements.txt (line 23)) (2.20.0)\n",
      "Requirement already satisfied: flatbuffers==24.3.25 in /var/home/tamas/.local/lib/python3.12/site-packages (from -r requirements.txt (line 24)) (24.3.25)\n",
      "Requirement already satisfied: fqdn==1.5.1 in /var/home/tamas/anaconda3/lib/python3.12/site-packages (from -r requirements.txt (line 25)) (1.5.1)\n",
      "Requirement already satisfied: gast==0.6.0 in /var/home/tamas/.local/lib/python3.12/site-packages (from -r requirements.txt (line 26)) (0.6.0)\n",
      "Requirement already satisfied: google-pasta==0.2.0 in /var/home/tamas/.local/lib/python3.12/site-packages (from -r requirements.txt (line 27)) (0.2.0)\n",
      "Requirement already satisfied: googletrans==4.0.0rc1 in /var/home/tamas/anaconda3/lib/python3.12/site-packages (from -r requirements.txt (line 28)) (4.0.0rc1)\n",
      "Requirement already satisfied: grpcio==1.66.1 in /var/home/tamas/anaconda3/lib/python3.12/site-packages (from -r requirements.txt (line 29)) (1.66.1)\n",
      "Requirement already satisfied: h11==0.9.0 in /var/home/tamas/anaconda3/lib/python3.12/site-packages (from -r requirements.txt (line 30)) (0.9.0)\n",
      "Requirement already satisfied: h2==3.2.0 in /var/home/tamas/anaconda3/lib/python3.12/site-packages (from -r requirements.txt (line 31)) (3.2.0)\n",
      "Requirement already satisfied: h5py==3.11.0 in /var/home/tamas/.local/lib/python3.12/site-packages (from -r requirements.txt (line 32)) (3.11.0)\n",
      "Requirement already satisfied: hpack==3.0.0 in /var/home/tamas/anaconda3/lib/python3.12/site-packages (from -r requirements.txt (line 33)) (3.0.0)\n",
      "Requirement already satisfied: hstspreload==2024.9.1 in /var/home/tamas/anaconda3/lib/python3.12/site-packages (from -r requirements.txt (line 34)) (2024.9.1)\n",
      "Requirement already satisfied: httpcore==0.9.1 in /var/home/tamas/anaconda3/lib/python3.12/site-packages (from -r requirements.txt (line 35)) (0.9.1)\n",
      "Requirement already satisfied: httpx==0.13.3 in /var/home/tamas/anaconda3/lib/python3.12/site-packages (from -r requirements.txt (line 36)) (0.13.3)\n",
      "Requirement already satisfied: hyperframe==5.2.0 in /var/home/tamas/anaconda3/lib/python3.12/site-packages (from -r requirements.txt (line 37)) (5.2.0)\n",
      "Requirement already satisfied: idna==2.10 in /var/home/tamas/anaconda3/lib/python3.12/site-packages (from -r requirements.txt (line 38)) (2.10)\n",
      "Requirement already satisfied: isoduration==20.11.0 in /var/home/tamas/anaconda3/lib/python3.12/site-packages (from -r requirements.txt (line 39)) (20.11.0)\n",
      "Requirement already satisfied: jedi==0.19.1 in /var/home/tamas/.local/lib/python3.12/site-packages (from -r requirements.txt (line 40)) (0.19.1)\n",
      "Requirement already satisfied: Jinja2==3.1.4 in /var/home/tamas/anaconda3/lib/python3.12/site-packages (from -r requirements.txt (line 41)) (3.1.4)\n",
      "Requirement already satisfied: joblib==1.4.2 in /var/home/tamas/anaconda3/lib/python3.12/site-packages (from -r requirements.txt (line 42)) (1.4.2)\n",
      "Requirement already satisfied: json5==0.9.25 in /var/home/tamas/anaconda3/lib/python3.12/site-packages (from -r requirements.txt (line 43)) (0.9.25)\n",
      "Requirement already satisfied: jsonpointer==3.0.0 in /var/home/tamas/anaconda3/lib/python3.12/site-packages (from -r requirements.txt (line 44)) (3.0.0)\n",
      "Requirement already satisfied: jsonschema==4.23.0 in /var/home/tamas/anaconda3/lib/python3.12/site-packages (from -r requirements.txt (line 45)) (4.23.0)\n",
      "Requirement already satisfied: jsonschema-specifications==2023.12.1 in /var/home/tamas/anaconda3/lib/python3.12/site-packages (from -r requirements.txt (line 46)) (2023.12.1)\n",
      "Requirement already satisfied: langdetect==1.0.9 in /var/home/tamas/anaconda3/lib/python3.12/site-packages (from -r requirements.txt (line 47)) (1.0.9)\n",
      "Requirement already satisfied: libclang==18.1.1 in /var/home/tamas/.local/lib/python3.12/site-packages (from -r requirements.txt (line 48)) (18.1.1)\n",
      "Requirement already satisfied: Markdown==3.7 in /var/home/tamas/.local/lib/python3.12/site-packages (from -r requirements.txt (line 49)) (3.7)\n",
      "Requirement already satisfied: markdown-it-py==3.0.0 in /var/home/tamas/.local/lib/python3.12/site-packages (from -r requirements.txt (line 50)) (3.0.0)\n",
      "Requirement already satisfied: MarkupSafe==2.1.5 in /var/home/tamas/.local/lib/python3.12/site-packages (from -r requirements.txt (line 51)) (2.1.5)\n",
      "Requirement already satisfied: matplotlib-inline==0.1.7 in /var/home/tamas/.local/lib/python3.12/site-packages (from -r requirements.txt (line 52)) (0.1.7)\n",
      "Requirement already satisfied: mdurl==0.1.2 in /var/home/tamas/.local/lib/python3.12/site-packages (from -r requirements.txt (line 53)) (0.1.2)\n",
      "Requirement already satisfied: mistune==3.0.2 in /var/home/tamas/anaconda3/lib/python3.12/site-packages (from -r requirements.txt (line 54)) (3.0.2)\n",
      "Requirement already satisfied: ml-dtypes==0.4.0 in /var/home/tamas/.local/lib/python3.12/site-packages (from -r requirements.txt (line 55)) (0.4.0)\n",
      "Requirement already satisfied: namex==0.0.8 in /var/home/tamas/.local/lib/python3.12/site-packages (from -r requirements.txt (line 56)) (0.0.8)\n",
      "Requirement already satisfied: nest-asyncio==1.6.0 in /var/home/tamas/anaconda3/lib/python3.12/site-packages (from -r requirements.txt (line 57)) (1.6.0)\n",
      "Requirement already satisfied: nltk==3.9.1 in /var/home/tamas/anaconda3/lib/python3.12/site-packages (from -r requirements.txt (line 58)) (3.9.1)\n",
      "Requirement already satisfied: numpy==1.26.4 in /var/home/tamas/.local/lib/python3.12/site-packages (from -r requirements.txt (line 59)) (1.26.4)\n",
      "Requirement already satisfied: opt-einsum==3.3.0 in /var/home/tamas/.local/lib/python3.12/site-packages (from -r requirements.txt (line 60)) (3.3.0)\n",
      "Requirement already satisfied: optree==0.12.1 in /var/home/tamas/.local/lib/python3.12/site-packages (from -r requirements.txt (line 61)) (0.12.1)\n",
      "Requirement already satisfied: overrides==7.7.0 in /var/home/tamas/anaconda3/lib/python3.12/site-packages (from -r requirements.txt (line 62)) (7.7.0)\n",
      "Requirement already satisfied: packaging==24.1 in /var/home/tamas/anaconda3/lib/python3.12/site-packages (from -r requirements.txt (line 63)) (24.1)\n",
      "Requirement already satisfied: pandas==2.2.2 in /var/home/tamas/anaconda3/lib/python3.12/site-packages (from -r requirements.txt (line 64)) (2.2.2)\n",
      "Requirement already satisfied: pandocfilters==1.5.1 in /var/home/tamas/anaconda3/lib/python3.12/site-packages (from -r requirements.txt (line 65)) (1.5.1)\n",
      "Requirement already satisfied: parso==0.8.4 in /var/home/tamas/.local/lib/python3.12/site-packages (from -r requirements.txt (line 66)) (0.8.4)\n",
      "Requirement already satisfied: pexpect==4.9.0 in /var/home/tamas/.local/lib/python3.12/site-packages (from -r requirements.txt (line 67)) (4.9.0)\n",
      "Requirement already satisfied: platformdirs==4.3.2 in /var/home/tamas/anaconda3/lib/python3.12/site-packages (from -r requirements.txt (line 68)) (4.3.2)\n",
      "Requirement already satisfied: prometheus_client==0.20.0 in /var/home/tamas/anaconda3/lib/python3.12/site-packages (from -r requirements.txt (line 69)) (0.20.0)\n",
      "Requirement already satisfied: prompt_toolkit==3.0.47 in /var/home/tamas/.local/lib/python3.12/site-packages (from -r requirements.txt (line 70)) (3.0.47)\n",
      "Requirement already satisfied: protobuf==4.25.4 in /var/home/tamas/.local/lib/python3.12/site-packages (from -r requirements.txt (line 71)) (4.25.4)\n",
      "Requirement already satisfied: psutil==6.0.0 in /var/home/tamas/anaconda3/lib/python3.12/site-packages (from -r requirements.txt (line 72)) (6.0.0)\n",
      "Requirement already satisfied: ptyprocess==0.7.0 in /var/home/tamas/.local/lib/python3.12/site-packages (from -r requirements.txt (line 73)) (0.7.0)\n",
      "Requirement already satisfied: pure_eval==0.2.3 in /var/home/tamas/anaconda3/lib/python3.12/site-packages (from -r requirements.txt (line 74)) (0.2.3)\n",
      "Requirement already satisfied: pycparser==2.22 in /var/home/tamas/.local/lib/python3.12/site-packages (from -r requirements.txt (line 75)) (2.22)\n",
      "Requirement already satisfied: Pygments==2.18.0 in /var/home/tamas/.local/lib/python3.12/site-packages (from -r requirements.txt (line 76)) (2.18.0)\n",
      "Requirement already satisfied: python-dateutil==2.9.0.post0 in /var/home/tamas/anaconda3/lib/python3.12/site-packages (from -r requirements.txt (line 77)) (2.9.0.post0)\n",
      "Requirement already satisfied: python-json-logger==2.0.7 in /var/home/tamas/anaconda3/lib/python3.12/site-packages (from -r requirements.txt (line 78)) (2.0.7)\n",
      "Requirement already satisfied: pytz==2024.1 in /var/home/tamas/anaconda3/lib/python3.12/site-packages (from -r requirements.txt (line 79)) (2024.1)\n",
      "Requirement already satisfied: PyYAML==6.0.2 in /var/home/tamas/anaconda3/lib/python3.12/site-packages (from -r requirements.txt (line 80)) (6.0.2)\n",
      "Requirement already satisfied: pyzmq==26.2.0 in /var/home/tamas/anaconda3/lib/python3.12/site-packages (from -r requirements.txt (line 81)) (26.2.0)\n",
      "Requirement already satisfied: rapidfuzz==3.9.7 in /var/home/tamas/anaconda3/lib/python3.12/site-packages (from -r requirements.txt (line 82)) (3.9.7)\n",
      "Requirement already satisfied: referencing==0.35.1 in /var/home/tamas/anaconda3/lib/python3.12/site-packages (from -r requirements.txt (line 83)) (0.35.1)\n",
      "Requirement already satisfied: regex==2024.7.24 in /var/home/tamas/anaconda3/lib/python3.12/site-packages (from -r requirements.txt (line 84)) (2024.7.24)\n",
      "Requirement already satisfied: requests==2.32.3 in /var/home/tamas/.local/lib/python3.12/site-packages (from -r requirements.txt (line 85)) (2.32.3)\n",
      "Requirement already satisfied: rfc3339-validator==0.1.4 in /var/home/tamas/anaconda3/lib/python3.12/site-packages (from -r requirements.txt (line 86)) (0.1.4)\n",
      "Requirement already satisfied: rfc3986==1.5.0 in /var/home/tamas/anaconda3/lib/python3.12/site-packages (from -r requirements.txt (line 87)) (1.5.0)\n",
      "Requirement already satisfied: rfc3986-validator==0.1.1 in /var/home/tamas/anaconda3/lib/python3.12/site-packages (from -r requirements.txt (line 88)) (0.1.1)\n",
      "Requirement already satisfied: rich==13.8.0 in /var/home/tamas/anaconda3/lib/python3.12/site-packages (from -r requirements.txt (line 89)) (13.8.0)\n",
      "Requirement already satisfied: rpds-py==0.20.0 in /var/home/tamas/anaconda3/lib/python3.12/site-packages (from -r requirements.txt (line 90)) (0.20.0)\n",
      "Requirement already satisfied: Send2Trash==1.8.3 in /var/home/tamas/anaconda3/lib/python3.12/site-packages (from -r requirements.txt (line 91)) (1.8.3)\n",
      "Requirement already satisfied: setuptools==74.1.2 in /var/home/tamas/anaconda3/lib/python3.12/site-packages (from -r requirements.txt (line 92)) (74.1.2)\n",
      "Requirement already satisfied: six==1.16.0 in /var/home/tamas/anaconda3/lib/python3.12/site-packages (from -r requirements.txt (line 93)) (1.16.0)\n",
      "Requirement already satisfied: sniffio==1.3.1 in /var/home/tamas/anaconda3/lib/python3.12/site-packages (from -r requirements.txt (line 94)) (1.3.1)\n",
      "Requirement already satisfied: soupsieve==2.6 in /var/home/tamas/anaconda3/lib/python3.12/site-packages (from -r requirements.txt (line 95)) (2.6)\n",
      "Requirement already satisfied: stack-data==0.6.3 in /var/home/tamas/.local/lib/python3.12/site-packages (from -r requirements.txt (line 96)) (0.6.3)\n",
      "Requirement already satisfied: termcolor==2.4.0 in /var/home/tamas/.local/lib/python3.12/site-packages (from -r requirements.txt (line 97)) (2.4.0)\n",
      "Requirement already satisfied: terminado==0.18.1 in /var/home/tamas/anaconda3/lib/python3.12/site-packages (from -r requirements.txt (line 98)) (0.18.1)\n",
      "Requirement already satisfied: tinycss2==1.3.0 in /var/home/tamas/anaconda3/lib/python3.12/site-packages (from -r requirements.txt (line 99)) (1.3.0)\n",
      "Requirement already satisfied: tomli==2.0.1 in /var/home/tamas/.local/lib/python3.12/site-packages (from -r requirements.txt (line 100)) (2.0.1)\n",
      "Requirement already satisfied: tornado==6.4.1 in /var/home/tamas/anaconda3/lib/python3.12/site-packages (from -r requirements.txt (line 101)) (6.4.1)\n",
      "Requirement already satisfied: tqdm==4.66.5 in /var/home/tamas/anaconda3/lib/python3.12/site-packages (from -r requirements.txt (line 102)) (4.66.5)\n",
      "Requirement already satisfied: traitlets==5.14.3 in /var/home/tamas/.local/lib/python3.12/site-packages (from -r requirements.txt (line 103)) (5.14.3)\n",
      "Requirement already satisfied: types-python-dateutil==2.9.0.20240906 in /var/home/tamas/anaconda3/lib/python3.12/site-packages (from -r requirements.txt (line 104)) (2.9.0.20240906)\n",
      "Requirement already satisfied: typing_extensions==4.12.2 in /var/home/tamas/.local/lib/python3.12/site-packages (from -r requirements.txt (line 105)) (4.12.2)\n",
      "Requirement already satisfied: tzdata==2024.1 in /var/home/tamas/anaconda3/lib/python3.12/site-packages (from -r requirements.txt (line 106)) (2024.1)\n",
      "Requirement already satisfied: uri-template==1.3.0 in /var/home/tamas/anaconda3/lib/python3.12/site-packages (from -r requirements.txt (line 107)) (1.3.0)\n",
      "Requirement already satisfied: urllib3==2.2.2 in /var/home/tamas/.local/lib/python3.12/site-packages (from -r requirements.txt (line 108)) (2.2.2)\n",
      "Requirement already satisfied: wcwidth==0.2.13 in /var/home/tamas/.local/lib/python3.12/site-packages (from -r requirements.txt (line 109)) (0.2.13)\n",
      "Requirement already satisfied: webcolors==24.8.0 in /var/home/tamas/anaconda3/lib/python3.12/site-packages (from -r requirements.txt (line 110)) (24.8.0)\n",
      "Requirement already satisfied: webencodings==0.5.1 in /var/home/tamas/anaconda3/lib/python3.12/site-packages (from -r requirements.txt (line 111)) (0.5.1)\n",
      "Requirement already satisfied: websocket-client==1.8.0 in /var/home/tamas/anaconda3/lib/python3.12/site-packages (from -r requirements.txt (line 112)) (1.8.0)\n",
      "Requirement already satisfied: Werkzeug==3.0.4 in /var/home/tamas/.local/lib/python3.12/site-packages (from -r requirements.txt (line 113)) (3.0.4)\n",
      "Requirement already satisfied: wheel==0.44.0 in /var/home/tamas/.local/lib/python3.12/site-packages (from -r requirements.txt (line 114)) (0.44.0)\n",
      "Requirement already satisfied: widgetsnbextension==4.0.13 in /var/home/tamas/anaconda3/lib/python3.12/site-packages (from -r requirements.txt (line 115)) (4.0.13)\n",
      "Requirement already satisfied: wn==0.9.5 in /var/home/tamas/.local/lib/python3.12/site-packages (from -r requirements.txt (line 116)) (0.9.5)\n",
      "Requirement already satisfied: wrapt==1.16.0 in /var/home/tamas/.local/lib/python3.12/site-packages (from -r requirements.txt (line 117)) (1.16.0)\n",
      "Note: you may need to restart the kernel to use updated packages.\n"
     ]
    },
    {
     "name": "stderr",
     "output_type": "stream",
     "text": [
      "[nltk_data] Downloading package wordnet to\n",
      "[nltk_data]     /var/home/tamas/nltk_data...\n",
      "[nltk_data]   Package wordnet is already up-to-date!\n"
     ]
    }
   ],
   "source": [
    "## Welcome to the Name Matchin utility example\n",
    "\n",
    "# install requirements\n",
    "%pip install -r requirements.txt\n",
    "import os\n",
    "os.chdir('./src')\n",
    "\n",
    "#import two functions we need for the example\n",
    "# match_names is the main function to match names against an entries data \n",
    "from match_names import match_names\n",
    "\n",
    "# load_library is a utility for handling the API's internal \"library\"\n",
    "from build_library import load_library\n",
    "\n",
    "'''\n",
    "    The solution's main approach has been to build on a quick lookup functionality using an internal library.\n",
    "    This library can be constructed separately and can be extended with further functionality.\n",
    "    Currently it contains alhabethic sections, such as \"a\":[...list of records], \"b\": [...list of records] to speed up lookups.\n",
    "\n",
    "    Each record contains the original, the lemmatized text of a looked-up term and various synonyms of its tokens.\n",
    "    The synonym matching is not part of the current solution, but can be added later.\n",
    "'''"
   ]
  },
  {
   "cell_type": "code",
   "execution_count": 3,
   "id": "6e49ae60-4351-489b-9335-42818ced310a",
   "metadata": {},
   "outputs": [],
   "source": [
    "# an initial library is battery-included, let's load it\n",
    "entry = load_library(os.path.join('..', 'data', 'libary.pickle'))"
   ]
  },
  {
   "cell_type": "code",
   "execution_count": 4,
   "id": "8111c404-7376-4b1c-8b49-8c8539340b3a",
   "metadata": {},
   "outputs": [
    {
     "data": {
      "text/plain": [
       "[('Jane', 'jones', 0.6666666666666667),\n",
       " ('Jane', 'jane doe', 0.6666666666666667),\n",
       " ('Trade', 'traderio', 0.7692307692307692),\n",
       " ('Trade', 'transdev', 0.7692307692307692),\n",
       " ('Johnson', 'johnson', 1.0),\n",
       " ('Lee', 'leeson l', 0.5454545454545454),\n",
       " ('Lee', 'levie al', 0.5454545454545454),\n",
       " ('Lee', 'le vee q', 0.5454545454545454),\n",
       " ('Thomas', 'thomas ltd', 0.75),\n",
       " ('Thomas', 'thomason m', 0.75)]"
      ]
     },
     "execution_count": 4,
     "metadata": {},
     "output_type": "execute_result"
    }
   ],
   "source": [
    "# let's try out our solution on some words\n",
    "match_names(entry, [\"Jane\", \"Trade\", \"Johnson\", \"Lee\", \"Thomas\"])"
   ]
  },
  {
   "cell_type": "code",
   "execution_count": 5,
   "id": "b8deec93-11ed-4112-84d6-33d51aee0ae7",
   "metadata": {},
   "outputs": [
    {
     "data": {
      "text/plain": [
       "[('LLC', 'Unknown', 0.0)]"
      ]
     },
     "execution_count": 5,
     "metadata": {},
     "output_type": "execute_result"
    }
   ],
   "source": [
    "match_names(entry, \"LLC\")"
   ]
  },
  {
   "cell_type": "code",
   "execution_count": null,
   "id": "62ff43b5-d0bc-44d6-96e1-90636d5f2556",
   "metadata": {},
   "outputs": [],
   "source": []
  }
 ],
 "metadata": {
  "kernelspec": {
   "display_name": "Python 3 (ipykernel)",
   "language": "python",
   "name": "python3"
  },
  "language_info": {
   "codemirror_mode": {
    "name": "ipython",
    "version": 3
   },
   "file_extension": ".py",
   "mimetype": "text/x-python",
   "name": "python",
   "nbconvert_exporter": "python",
   "pygments_lexer": "ipython3",
   "version": "3.12.4"
  }
 },
 "nbformat": 4,
 "nbformat_minor": 5
}
